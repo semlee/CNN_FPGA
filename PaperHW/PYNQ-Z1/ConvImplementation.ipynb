{
 "cells": [
  {
   "cell_type": "code",
   "execution_count": 1,
   "id": "fd3f70d7",
   "metadata": {},
   "outputs": [
    {
     "data": {
      "application/javascript": [
       "\n",
       "try {\n",
       "require(['notebook/js/codecell'], function(codecell) {\n",
       "  codecell.CodeCell.options_default.highlight_modes[\n",
       "      'magic_text/x-csrc'] = {'reg':[/^%%microblaze/]};\n",
       "  Jupyter.notebook.events.one('kernel_ready.Kernel', function(){\n",
       "      Jupyter.notebook.get_cells().map(function(cell){\n",
       "          if (cell.cell_type == 'code'){ cell.auto_highlight(); } }) ;\n",
       "  });\n",
       "});\n",
       "} catch (e) {};\n"
      ]
     },
     "metadata": {},
     "output_type": "display_data"
    },
    {
     "data": {
      "application/javascript": [
       "\n",
       "try {\n",
       "require(['notebook/js/codecell'], function(codecell) {\n",
       "  codecell.CodeCell.options_default.highlight_modes[\n",
       "      'magic_text/x-csrc'] = {'reg':[/^%%pybind11/]};\n",
       "  Jupyter.notebook.events.one('kernel_ready.Kernel', function(){\n",
       "      Jupyter.notebook.get_cells().map(function(cell){\n",
       "          if (cell.cell_type == 'code'){ cell.auto_highlight(); } }) ;\n",
       "  });\n",
       "});\n",
       "} catch (e) {};\n"
      ]
     },
     "metadata": {},
     "output_type": "display_data"
    }
   ],
   "source": [
    "from pynq import Overlay"
   ]
  },
  {
   "cell_type": "code",
   "execution_count": 2,
   "id": "8d9d44a1",
   "metadata": {
    "scrolled": true
   },
   "outputs": [],
   "source": [
    "ol=Overlay('/home/xilinx/conv_project.bit')\n"
   ]
  },
  {
   "cell_type": "code",
   "execution_count": 4,
   "id": "6e7d47ee",
   "metadata": {},
   "outputs": [
    {
     "name": "stdout",
     "output_type": "stream",
     "text": [
      "Ran inference in 0.1153s\n"
     ]
    }
   ],
   "source": [
    "import numpy as np\n",
    "import time\n",
    "\n",
    "buffer_list= np.arange(8192/4, dtype=np.uint32)\n",
    "data_bytes=buffer_list.tobytes()\n",
    "\n",
    "\n",
    "start = time.time()\n",
    "ol.axi_bram_ctrl_0.write(0,data_bytes)\n",
    "ol.axi_bram_ctrl_1.write(0,data_bytes)\n",
    "ol.axi_bram_ctrl_2.write(0,data_bytes)\n",
    "ol.axi_bram_ctrl_3.write(0,data_bytes)\n",
    "\n",
    "end = time.time()\n",
    "print(\"Ran inference in {:.4}s\".format(end - start))\n",
    "\n",
    "\n"
   ]
  },
  {
   "cell_type": "code",
   "execution_count": 11,
   "id": "07c4d010",
   "metadata": {},
   "outputs": [
    {
     "name": "stdout",
     "output_type": "stream",
     "text": [
      "Ran inference in 0.006091s\n"
     ]
    }
   ],
   "source": [
    "import numpy as np\n",
    "import time\n",
    "from pynq import GPIO\n",
    "\n",
    "buffer_list= np.arange(8192/4, dtype=np.uint32)\n",
    "data_bytes=buffer_list.tobytes()\n",
    "\n",
    "rst_n=GPIO(GPIO.get_gpio_pin(0),'out')\n",
    "ready_sig=GPIO(GPIO.get_gpio_pin(1),'out')\n",
    "valid=GPIO(GPIO.get_gpio_pin(2),'in')\n",
    "tile_pof_done=GPIO(GPIO.get_gpio_pin(3),'in')\n",
    "tile_done=GPIO(GPIO.get_gpio_pin(4),'in')\n",
    "\n",
    "rst_n.write(0)\n",
    "rst_n.write(1)\n",
    "\n",
    "\n",
    "start = time.time()\n",
    "ol.axi_bram_ctrl_0.write(0,data_bytes)\n",
    "ol.axi_bram_ctrl_1.write(0,data_bytes)\n",
    "ol.axi_bram_ctrl_2.write(0,data_bytes)\n",
    "ol.axi_bram_ctrl_3.write(0,data_bytes)\n",
    "ready_sig.write(1)\n",
    "ready_sig.write(0)\n",
    "while True:\n",
    "    if(tile_done.read()==1):\n",
    "        break\n",
    "end = time.time()\n",
    "print(\"Ran inference in {:.4}s\".format(end - start))\n"
   ]
  },
  {
   "cell_type": "code",
   "execution_count": null,
   "id": "499be515",
   "metadata": {},
   "outputs": [],
   "source": []
  }
 ],
 "metadata": {
  "kernelspec": {
   "display_name": "Python 3",
   "language": "python",
   "name": "python3"
  },
  "language_info": {
   "codemirror_mode": {
    "name": "ipython",
    "version": 3
   },
   "file_extension": ".py",
   "mimetype": "text/x-python",
   "name": "python",
   "nbconvert_exporter": "python",
   "pygments_lexer": "ipython3",
   "version": "3.8.2"
  }
 },
 "nbformat": 4,
 "nbformat_minor": 5
}
